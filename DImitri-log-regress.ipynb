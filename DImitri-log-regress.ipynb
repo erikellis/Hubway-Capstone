{
 "cells": [
  {
   "cell_type": "markdown",
   "metadata": {
    "deletable": true,
    "editable": true
   },
   "source": [
    "#### Dimitri\n",
    "\n",
    "** I needed you to try and do a Muit-class Logistic rergresion based on the End Catagories percent differences from the percent differences of Gender, Start Station, Usertype, Age and/or Trip Duration. **\n"
   ]
  },
  {
   "cell_type": "code",
   "execution_count": 2,
   "metadata": {
    "collapsed": true,
    "deletable": true,
    "editable": true
   },
   "outputs": [],
   "source": [
    "import numpy as np\n",
    "import scipy.stats as stats\n",
    "import seaborn as sns\n",
    "import matplotlib.pyplot as plt\n",
    "import pandas as pd\n",
    "from sklearn import datasets\n",
    "from sklearn.linear_model import LogisticRegression\n",
    "from sklearn.multiclass import OneVsRestClassifier\n",
    "import statsmodels.api as sm"
   ]
  },
  {
   "cell_type": "code",
   "execution_count": 7,
   "metadata": {
    "collapsed": false,
    "deletable": true,
    "editable": true
   },
   "outputs": [],
   "source": [
    "#catsp_csv = pd.read_csv('./database/hubway-cats-prob.csv')\n",
    "#catsp_df = pd.DataFrame(catsp_csv)\n",
    "#catsp_df.head()"
   ]
  },
  {
   "cell_type": "markdown",
   "metadata": {
    "deletable": true,
    "editable": true
   },
   "source": [
    "** DISREGARD: Note: the start station category is the indicies, and the end station category is the columns. I am only concerned with the end station category. Thanks.**"
   ]
  },
  {
   "cell_type": "code",
   "execution_count": 4,
   "metadata": {
    "collapsed": false,
    "deletable": true,
    "editable": true
   },
   "outputs": [
    {
     "name": "stdout",
     "output_type": "stream",
     "text": [
      "<class 'pandas.core.frame.DataFrame'>\n",
      "RangeIndex: 1214424 entries, 0 to 1214423\n",
      "Data columns (total 19 columns):\n",
      "Unnamed: 0                 1214424 non-null int64\n",
      "tripduration               1214424 non-null int64\n",
      "starttime                  1214424 non-null object\n",
      "stoptime                   1214424 non-null object\n",
      "start station id           1214424 non-null int64\n",
      "start station name         1214424 non-null object\n",
      "start station latitude     1214424 non-null float64\n",
      "start station longitude    1214424 non-null float64\n",
      "end station id             1214424 non-null int64\n",
      "end station name           1214424 non-null object\n",
      "end station latitude       1214424 non-null float64\n",
      "end station longitude      1214424 non-null float64\n",
      "bikeid                     1214424 non-null int64\n",
      "usertype                   1214424 non-null object\n",
      "birth year                 1214424 non-null object\n",
      "gender                     1214424 non-null int64\n",
      "end station category       1214424 non-null int64\n",
      "start station category     1214424 non-null int64\n",
      "day_of_week                1214424 non-null object\n",
      "dtypes: float64(4), int64(8), object(7)\n",
      "memory usage: 176.0+ MB\n"
     ]
    }
   ],
   "source": [
    "hubway_csv = pd.read_csv('./database/hubway_final.csv')\n",
    "hubway_df = pd.DataFrame(hubway_csv)\n",
    "hubway_df.info()"
   ]
  },
  {
   "cell_type": "code",
   "execution_count": null,
   "metadata": {
    "collapsed": true
   },
   "outputs": [],
   "source": []
  }
 ],
 "metadata": {
  "kernelspec": {
   "display_name": "Python 2",
   "language": "python",
   "name": "python2"
  },
  "language_info": {
   "codemirror_mode": {
    "name": "ipython",
    "version": 2
   },
   "file_extension": ".py",
   "mimetype": "text/x-python",
   "name": "python",
   "nbconvert_exporter": "python",
   "pygments_lexer": "ipython2",
   "version": "2.7.12"
  }
 },
 "nbformat": 4,
 "nbformat_minor": 2
}
