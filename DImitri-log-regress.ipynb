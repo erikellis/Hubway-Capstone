{
 "cells": [
  {
   "cell_type": "markdown",
   "metadata": {},
   "source": [
    "#### Dimitri\n",
    "\n",
    "** I needed you to try and do a Muit-class Logistic rergresion based on the End Catagories percent differences from the whole of the sample of total trips to those categories. **\n",
    "\n",
    "You shouldn't need the hubway_final.csv file"
   ]
  },
  {
   "cell_type": "code",
   "execution_count": 2,
   "metadata": {
    "collapsed": true
   },
   "outputs": [],
   "source": [
    "import numpy as np\n",
    "import scipy.stats as stats\n",
    "import seaborn as sns\n",
    "import matplotlib.pyplot as plt\n",
    "import pandas as pd\n",
    "from sklearn import datasets\n",
    "from sklearn.linear_model import LogisticRegression\n",
    "from sklearn.multiclass import OneVsRestClassifier\n",
    "import statsmodels.api as sm"
   ]
  },
  {
   "cell_type": "code",
   "execution_count": 4,
   "metadata": {
    "collapsed": false
   },
   "outputs": [
    {
     "data": {
      "text/html": [
       "<div>\n",
       "<table border=\"1\" class=\"dataframe\">\n",
       "  <thead>\n",
       "    <tr style=\"text-align: right;\">\n",
       "      <th></th>\n",
       "      <th>Categories Percent</th>\n",
       "      <th>1</th>\n",
       "      <th>2</th>\n",
       "      <th>3</th>\n",
       "      <th>4</th>\n",
       "      <th>5</th>\n",
       "    </tr>\n",
       "  </thead>\n",
       "  <tbody>\n",
       "    <tr>\n",
       "      <th>0</th>\n",
       "      <td>1</td>\n",
       "      <td>0.114010</td>\n",
       "      <td>0.197736</td>\n",
       "      <td>0.135013</td>\n",
       "      <td>0.408610</td>\n",
       "      <td>0.144632</td>\n",
       "    </tr>\n",
       "    <tr>\n",
       "      <th>1</th>\n",
       "      <td>2</td>\n",
       "      <td>0.138742</td>\n",
       "      <td>0.236436</td>\n",
       "      <td>0.100348</td>\n",
       "      <td>0.376485</td>\n",
       "      <td>0.147988</td>\n",
       "    </tr>\n",
       "    <tr>\n",
       "      <th>2</th>\n",
       "      <td>3</td>\n",
       "      <td>0.116273</td>\n",
       "      <td>0.121135</td>\n",
       "      <td>0.247220</td>\n",
       "      <td>0.373013</td>\n",
       "      <td>0.142358</td>\n",
       "    </tr>\n",
       "    <tr>\n",
       "      <th>3</th>\n",
       "      <td>4</td>\n",
       "      <td>0.128534</td>\n",
       "      <td>0.173401</td>\n",
       "      <td>0.151474</td>\n",
       "      <td>0.402990</td>\n",
       "      <td>0.143601</td>\n",
       "    </tr>\n",
       "    <tr>\n",
       "      <th>4</th>\n",
       "      <td>5</td>\n",
       "      <td>0.130734</td>\n",
       "      <td>0.179296</td>\n",
       "      <td>0.153727</td>\n",
       "      <td>0.379662</td>\n",
       "      <td>0.156582</td>\n",
       "    </tr>\n",
       "  </tbody>\n",
       "</table>\n",
       "</div>"
      ],
      "text/plain": [
       "   Categories Percent         1         2         3         4         5\n",
       "0                   1  0.114010  0.197736  0.135013  0.408610  0.144632\n",
       "1                   2  0.138742  0.236436  0.100348  0.376485  0.147988\n",
       "2                   3  0.116273  0.121135  0.247220  0.373013  0.142358\n",
       "3                   4  0.128534  0.173401  0.151474  0.402990  0.143601\n",
       "4                   5  0.130734  0.179296  0.153727  0.379662  0.156582"
      ]
     },
     "execution_count": 4,
     "metadata": {},
     "output_type": "execute_result"
    }
   ],
   "source": [
    "catsp_csv = pd.read_csv('./database/hubway-cats-prob.csv')\n",
    "catsp_df = pd.DataFrame(catsp_csv)\n",
    "catsp_df.head()"
   ]
  },
  {
   "cell_type": "markdown",
   "metadata": {},
   "source": [
    "** Note: the start station category is the indicies, and the end station category is the columns. I am only concerned with the end station category. Thanks.**"
   ]
  },
  {
   "cell_type": "code",
   "execution_count": null,
   "metadata": {
    "collapsed": true
   },
   "outputs": [],
   "source": []
  }
 ],
 "metadata": {
  "kernelspec": {
   "display_name": "Python 2",
   "language": "python",
   "name": "python2"
  },
  "language_info": {
   "codemirror_mode": {
    "name": "ipython",
    "version": 2
   },
   "file_extension": ".py",
   "mimetype": "text/x-python",
   "name": "python",
   "nbconvert_exporter": "python",
   "pygments_lexer": "ipython2",
   "version": "2.7.12"
  }
 },
 "nbformat": 4,
 "nbformat_minor": 2
}
