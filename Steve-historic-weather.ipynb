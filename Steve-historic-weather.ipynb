{
 "cells": [
  {
   "cell_type": "markdown",
   "metadata": {
    "deletable": true,
    "editable": true
   },
   "source": [
    "#### Steve\n",
    "\n",
    "**Please investigate using a weather API or some other source for gethering historic weather conditions for the date ranges in the data.**\n",
    "\n",
    "Sample link:\n",
    "https://www.timeanddate.com/weather/usa/boston/historic?month=10&year=2016\n",
    "\n",
    "**Or investigate total trips over the course of several selected weeks by day of the week, where 'stoptime' is the target.**"
   ]
  },
  {
   "cell_type": "code",
   "execution_count": 3,
   "metadata": {
    "collapsed": true,
    "deletable": true,
    "editable": true
   },
   "outputs": [],
   "source": [
    "import numpy as np\n",
    "import scipy.stats as stats\n",
    "import seaborn as sns\n",
    "import matplotlib.pyplot as plt\n",
    "import pandas as pd\n",
    "#import sqlite3\n",
    "from scipy import stats\n",
    "from datetime import datetime\n"
   ]
  },
  {
   "cell_type": "code",
   "execution_count": 4,
   "metadata": {
    "collapsed": false,
    "deletable": true,
    "editable": true
   },
   "outputs": [
    {
     "data": {
      "text/html": [
       "<div>\n",
       "<table border=\"1\" class=\"dataframe\">\n",
       "  <thead>\n",
       "    <tr style=\"text-align: right;\">\n",
       "      <th></th>\n",
       "      <th>Unnamed: 0</th>\n",
       "      <th>tripduration</th>\n",
       "      <th>starttime</th>\n",
       "      <th>stoptime</th>\n",
       "      <th>start station id</th>\n",
       "      <th>start station name</th>\n",
       "      <th>start station latitude</th>\n",
       "      <th>start station longitude</th>\n",
       "      <th>end station id</th>\n",
       "      <th>end station name</th>\n",
       "      <th>end station latitude</th>\n",
       "      <th>end station longitude</th>\n",
       "      <th>bikeid</th>\n",
       "      <th>usertype</th>\n",
       "      <th>birth year</th>\n",
       "      <th>gender</th>\n",
       "      <th>end station category</th>\n",
       "      <th>start station category</th>\n",
       "      <th>day_of_week</th>\n",
       "    </tr>\n",
       "  </thead>\n",
       "  <tbody>\n",
       "    <tr>\n",
       "      <th>0</th>\n",
       "      <td>0</td>\n",
       "      <td>542</td>\n",
       "      <td>2015-01-01 00:21:44</td>\n",
       "      <td>2015-01-01 00:30:47</td>\n",
       "      <td>115</td>\n",
       "      <td>Porter Square Station</td>\n",
       "      <td>42.387995</td>\n",
       "      <td>-71.119084</td>\n",
       "      <td>96</td>\n",
       "      <td>Cambridge Main Library at Broadway / Trowbridg...</td>\n",
       "      <td>42.373379</td>\n",
       "      <td>-71.111075</td>\n",
       "      <td>277</td>\n",
       "      <td>Subscriber</td>\n",
       "      <td>1984</td>\n",
       "      <td>1</td>\n",
       "      <td>4</td>\n",
       "      <td>5</td>\n",
       "      <td>Thurs</td>\n",
       "    </tr>\n",
       "    <tr>\n",
       "      <th>1</th>\n",
       "      <td>1</td>\n",
       "      <td>432</td>\n",
       "      <td>2015-01-01 00:53:46</td>\n",
       "      <td>2015-01-01 01:00:58</td>\n",
       "      <td>115</td>\n",
       "      <td>Porter Square Station</td>\n",
       "      <td>42.387995</td>\n",
       "      <td>-71.119084</td>\n",
       "      <td>96</td>\n",
       "      <td>Cambridge Main Library at Broadway / Trowbridg...</td>\n",
       "      <td>42.373379</td>\n",
       "      <td>-71.111075</td>\n",
       "      <td>1307</td>\n",
       "      <td>Subscriber</td>\n",
       "      <td>1987</td>\n",
       "      <td>1</td>\n",
       "      <td>4</td>\n",
       "      <td>5</td>\n",
       "      <td>Thurs</td>\n",
       "    </tr>\n",
       "    <tr>\n",
       "      <th>2</th>\n",
       "      <td>2</td>\n",
       "      <td>580</td>\n",
       "      <td>2015-01-04 14:29:05</td>\n",
       "      <td>2015-01-04 14:38:45</td>\n",
       "      <td>115</td>\n",
       "      <td>Porter Square Station</td>\n",
       "      <td>42.387995</td>\n",
       "      <td>-71.119084</td>\n",
       "      <td>96</td>\n",
       "      <td>Cambridge Main Library at Broadway / Trowbridg...</td>\n",
       "      <td>42.373379</td>\n",
       "      <td>-71.111075</td>\n",
       "      <td>673</td>\n",
       "      <td>Subscriber</td>\n",
       "      <td>1991</td>\n",
       "      <td>1</td>\n",
       "      <td>4</td>\n",
       "      <td>5</td>\n",
       "      <td>Sun</td>\n",
       "    </tr>\n",
       "    <tr>\n",
       "      <th>3</th>\n",
       "      <td>3</td>\n",
       "      <td>754</td>\n",
       "      <td>2015-01-08 16:17:04</td>\n",
       "      <td>2015-01-08 16:29:39</td>\n",
       "      <td>115</td>\n",
       "      <td>Porter Square Station</td>\n",
       "      <td>42.387995</td>\n",
       "      <td>-71.119084</td>\n",
       "      <td>96</td>\n",
       "      <td>Cambridge Main Library at Broadway / Trowbridg...</td>\n",
       "      <td>42.373379</td>\n",
       "      <td>-71.111075</td>\n",
       "      <td>1092</td>\n",
       "      <td>Customer</td>\n",
       "      <td>1961</td>\n",
       "      <td>2</td>\n",
       "      <td>4</td>\n",
       "      <td>5</td>\n",
       "      <td>Thurs</td>\n",
       "    </tr>\n",
       "    <tr>\n",
       "      <th>4</th>\n",
       "      <td>4</td>\n",
       "      <td>667</td>\n",
       "      <td>2015-01-10 11:40:49</td>\n",
       "      <td>2015-01-10 11:51:57</td>\n",
       "      <td>115</td>\n",
       "      <td>Porter Square Station</td>\n",
       "      <td>42.387995</td>\n",
       "      <td>-71.119084</td>\n",
       "      <td>96</td>\n",
       "      <td>Cambridge Main Library at Broadway / Trowbridg...</td>\n",
       "      <td>42.373379</td>\n",
       "      <td>-71.111075</td>\n",
       "      <td>772</td>\n",
       "      <td>Subscriber</td>\n",
       "      <td>1980</td>\n",
       "      <td>1</td>\n",
       "      <td>4</td>\n",
       "      <td>5</td>\n",
       "      <td>Sat</td>\n",
       "    </tr>\n",
       "  </tbody>\n",
       "</table>\n",
       "</div>"
      ],
      "text/plain": [
       "   Unnamed: 0  tripduration            starttime             stoptime  \\\n",
       "0           0           542  2015-01-01 00:21:44  2015-01-01 00:30:47   \n",
       "1           1           432  2015-01-01 00:53:46  2015-01-01 01:00:58   \n",
       "2           2           580  2015-01-04 14:29:05  2015-01-04 14:38:45   \n",
       "3           3           754  2015-01-08 16:17:04  2015-01-08 16:29:39   \n",
       "4           4           667  2015-01-10 11:40:49  2015-01-10 11:51:57   \n",
       "\n",
       "   start station id     start station name  start station latitude  \\\n",
       "0               115  Porter Square Station               42.387995   \n",
       "1               115  Porter Square Station               42.387995   \n",
       "2               115  Porter Square Station               42.387995   \n",
       "3               115  Porter Square Station               42.387995   \n",
       "4               115  Porter Square Station               42.387995   \n",
       "\n",
       "   start station longitude  end station id  \\\n",
       "0               -71.119084              96   \n",
       "1               -71.119084              96   \n",
       "2               -71.119084              96   \n",
       "3               -71.119084              96   \n",
       "4               -71.119084              96   \n",
       "\n",
       "                                    end station name  end station latitude  \\\n",
       "0  Cambridge Main Library at Broadway / Trowbridg...             42.373379   \n",
       "1  Cambridge Main Library at Broadway / Trowbridg...             42.373379   \n",
       "2  Cambridge Main Library at Broadway / Trowbridg...             42.373379   \n",
       "3  Cambridge Main Library at Broadway / Trowbridg...             42.373379   \n",
       "4  Cambridge Main Library at Broadway / Trowbridg...             42.373379   \n",
       "\n",
       "   end station longitude  bikeid    usertype birth year  gender  \\\n",
       "0             -71.111075     277  Subscriber       1984       1   \n",
       "1             -71.111075    1307  Subscriber       1987       1   \n",
       "2             -71.111075     673  Subscriber       1991       1   \n",
       "3             -71.111075    1092    Customer       1961       2   \n",
       "4             -71.111075     772  Subscriber       1980       1   \n",
       "\n",
       "   end station category  start station category day_of_week  \n",
       "0                     4                       5       Thurs  \n",
       "1                     4                       5       Thurs  \n",
       "2                     4                       5         Sun  \n",
       "3                     4                       5       Thurs  \n",
       "4                     4                       5         Sat  "
      ]
     },
     "execution_count": 4,
     "metadata": {},
     "output_type": "execute_result"
    }
   ],
   "source": [
    "hubway_csv = pd.read_csv('./database/hubway_final.csv')\n",
    "hubway_df = pd.DataFrame(hubway_csv)\n",
    "hubway_df.head()"
   ]
  },
  {
   "cell_type": "code",
   "execution_count": 8,
   "metadata": {
    "collapsed": false
   },
   "outputs": [],
   "source": [
    "#hubway_df.info()"
   ]
  },
  {
   "cell_type": "code",
   "execution_count": 6,
   "metadata": {
    "collapsed": false
   },
   "outputs": [
    {
     "data": {
      "text/plain": [
       "Unnamed: 0                          int64\n",
       "tripduration                        int64\n",
       "starttime                  datetime64[ns]\n",
       "stoptime                   datetime64[ns]\n",
       "start station id                    int64\n",
       "start station name                 object\n",
       "start station latitude            float64\n",
       "start station longitude           float64\n",
       "end station id                      int64\n",
       "end station name                   object\n",
       "end station latitude              float64\n",
       "end station longitude             float64\n",
       "bikeid                              int64\n",
       "usertype                           object\n",
       "birth year                         object\n",
       "gender                              int64\n",
       "end station category                int64\n",
       "start station category              int64\n",
       "day_of_week                        object\n",
       "dtype: object"
      ]
     },
     "execution_count": 6,
     "metadata": {},
     "output_type": "execute_result"
    }
   ],
   "source": [
    "hubway_df['starttime'] = pd.to_datetime(hubway_df.starttime)\n",
    "#hubway_df.dtypes\n",
    "hubway_df['stoptime'] = pd.to_datetime(hubway_df.stoptime)\n",
    "hubway_df.dtypes"
   ]
  },
  {
   "cell_type": "code",
   "execution_count": 7,
   "metadata": {
    "collapsed": false,
    "deletable": true,
    "editable": true
   },
   "outputs": [
    {
     "data": {
      "text/plain": [
       "<matplotlib.axes._subplots.AxesSubplot at 0x7f7c88d8cd10>"
      ]
     },
     "execution_count": 7,
     "metadata": {},
     "output_type": "execute_result"
    },
    {
     "name": "stderr",
     "output_type": "stream",
     "text": [
      "/opt/conda/envs/python2/lib/python2.7/site-packages/matplotlib/font_manager.py:1297: UserWarning: findfont: Font family [u'sans-serif'] not found. Falling back to DejaVu Sans\n",
      "  (prop.get_family(), self.defaultFamily[fontext]))\n"
     ]
    },
    {
     "data": {
      "image/png": "[encoded data removed]",
      "text/plain": [
       "<matplotlib.figure.Figure at 0x7f7c92ed3d50>"
      ]
     },
     "metadata": {},
     "output_type": "display_data"
    }
   ],
   "source": [
    "trp_dur = hubway_df.drop(['Unnamed: 0','starttime', 'start station name', 'start station id',\n",
    "                            'start station latitude',\n",
    "                            'start station longitude', 'end station name', \n",
    "                            'end station id',\n",
    "                            'end station latitude',\n",
    "                            'end station longitude', \n",
    "                            'bikeid', 'usertype',\n",
    "                            'birth year', 'gender', \n",
    "                            'end station category',\n",
    "                            'start station category', 'day_of_week'], axis=1)\n",
    "c = trp_dur.set_index('stoptime')\n",
    "d = c.resample('D').sum()\n",
    "d.plot(lw=2.5, figsize=(12,5))"
   ]
  },
  {
   "cell_type": "markdown",
   "metadata": {
    "collapsed": true,
    "deletable": true,
    "editable": true
   },
   "source": [
    "**Note:** I already confirmed that the spikes in July 2015, January 2016, and October 2016 are outliers. This is for total trip duration over time. I'd rather see number of trips per day to avoid the problem."
   ]
  },
  {
   "cell_type": "code",
   "execution_count": null,
   "metadata": {
    "collapsed": true
   },
   "outputs": [],
   "source": []
  }
 ],
 "metadata": {
  "kernelspec": {
   "display_name": "Python 2",
   "language": "python",
   "name": "python2"
  },
  "language_info": {
   "codemirror_mode": {
    "name": "ipython",
    "version": 2
   },
   "file_extension": ".py",
   "mimetype": "text/x-python",
   "name": "python",
   "nbconvert_exporter": "python",
   "pygments_lexer": "ipython2",
   "version": "2.7.12"
  }
 },
 "nbformat": 4,
 "nbformat_minor": 2
}
